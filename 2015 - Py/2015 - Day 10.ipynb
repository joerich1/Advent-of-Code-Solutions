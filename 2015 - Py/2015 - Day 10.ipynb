{
 "cells": [
  {
   "cell_type": "markdown",
   "id": "correct-satisfaction",
   "metadata": {},
   "source": [
    "### DAY 10: ELVES LOOK, ELVES SAY\n",
    "Today, the Elves are playing a game called look-and-say. They take turns making sequences by reading aloud the previous sequence and using that reading as the next sequence. For example, 211 is read as \"one two, two ones\", which becomes 1221 (1 2, 2 1s).\n",
    "\n",
    "Look-and-say sequences are generated iteratively, using the previous value as input for the next step. For each step, take the previous value, and replace each run of digits (like 111) with the number of digits (3) followed by the digit itself (1).\n",
    "\n",
    "For example:\n",
    "- 1 becomes 11 (1 copy of digit 1).\n",
    "- 11 becomes 21 (2 copies of digit 1).\n",
    "- 21 becomes 1211 (one 2 followed by one 1).\n",
    "- 1211 becomes 111221 (one 1, one 2, and two 1s).\n",
    "- 111221 becomes 312211 (three 1s, two 2s, and one 1).\n",
    "\n",
    "Starting with the digits in your puzzle input, apply this process 40 times. What is the length of the result?\n",
    "\n",
    "Your puzzle input is 3113322113."
   ]
  },
  {
   "cell_type": "code",
   "execution_count": null,
   "id": "functional-cylinder",
   "metadata": {},
   "outputs": [],
   "source": [
    "inp = '3113322113'"
   ]
  }
 ],
 "metadata": {
  "kernelspec": {
   "display_name": "Python 3",
   "language": "python",
   "name": "python3"
  },
  "language_info": {
   "codemirror_mode": {
    "name": "ipython",
    "version": 3
   },
   "file_extension": ".py",
   "mimetype": "text/x-python",
   "name": "python",
   "nbconvert_exporter": "python",
   "pygments_lexer": "ipython3",
   "version": "3.7.4"
  }
 },
 "nbformat": 4,
 "nbformat_minor": 5
}
