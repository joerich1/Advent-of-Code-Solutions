{
 "cells": [
  {
   "cell_type": "code",
   "execution_count": 57,
   "id": "referenced-maldives",
   "metadata": {},
   "outputs": [
    {
     "data": {
      "text/plain": [
       "'ckczppom'"
      ]
     },
     "execution_count": 57,
     "metadata": {},
     "output_type": "execute_result"
    }
   ],
   "source": [
    "inp = 'ckczppom'\n",
    "inp"
   ]
  },
  {
   "cell_type": "markdown",
   "id": "rational-textbook",
   "metadata": {},
   "source": [
    "PART 1"
   ]
  },
  {
   "cell_type": "code",
   "execution_count": 58,
   "id": "differential-peoples",
   "metadata": {},
   "outputs": [],
   "source": [
    "def add_digit(inp, length):\n",
    "    n = int(inp[length:]) + 1\n",
    "    return inp[:length] + str(n)"
   ]
  },
  {
   "cell_type": "code",
   "execution_count": 63,
   "id": "adolescent-destiny",
   "metadata": {},
   "outputs": [
    {
     "data": {
      "text/plain": [
       "117946"
      ]
     },
     "execution_count": 63,
     "metadata": {},
     "output_type": "execute_result"
    }
   ],
   "source": [
    "from hashlib import md5 \n",
    "length = len(inp)\n",
    "inp2 = inp + '0'\n",
    "while True:\n",
    "    result = md5(inp2.encode())\n",
    "    if result.hexdigest()[:5] == '00000': break\n",
    "    else:\n",
    "        inp2 = add_digit(inp2, length)\n",
    "int(inp2[length:])"
   ]
  },
  {
   "cell_type": "markdown",
   "id": "prime-employer",
   "metadata": {},
   "source": [
    "PART 2"
   ]
  },
  {
   "cell_type": "code",
   "execution_count": 64,
   "id": "interpreted-credits",
   "metadata": {},
   "outputs": [
    {
     "data": {
      "text/plain": [
       "3938038"
      ]
     },
     "execution_count": 64,
     "metadata": {},
     "output_type": "execute_result"
    }
   ],
   "source": [
    "inp3 = inp2\n",
    "while True:\n",
    "    result = md5(inp3.encode())\n",
    "    if result.hexdigest()[:6] == '000000': break\n",
    "    else:\n",
    "        inp3 = add_digit(inp3, length)\n",
    "int(inp3[length:])"
   ]
  }
 ],
 "metadata": {
  "kernelspec": {
   "display_name": "Python 3",
   "language": "python",
   "name": "python3"
  },
  "language_info": {
   "codemirror_mode": {
    "name": "ipython",
    "version": 3
   },
   "file_extension": ".py",
   "mimetype": "text/x-python",
   "name": "python",
   "nbconvert_exporter": "python",
   "pygments_lexer": "ipython3",
   "version": "3.7.4"
  }
 },
 "nbformat": 4,
 "nbformat_minor": 5
}
