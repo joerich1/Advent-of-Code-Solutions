{
 "cells": [
  {
   "cell_type": "markdown",
   "id": "moderate-exclusion",
   "metadata": {},
   "source": [
    "### Day 8: Matchsticks\n",
    "Space on the sleigh is limited this year, and so Santa will be bringing his list as a digital copy. He needs to know how much space it will take up when stored.\n",
    "\n",
    "It is common in many programming languages to provide a way to escape special characters in strings. For example, C, JavaScript, Perl, Python, and even PHP handle special characters in very similar ways.\n",
    "\n",
    "However, it is important to realize the difference between the number of characters in the code representation of the string literal and the number of characters in the in-memory string itself.\n",
    "\n",
    "For example:\n",
    "\n",
    "- \"\" is 2 characters of code (the two double quotes), but the string contains zero characters.\n",
    "- \"abc\" is 5 characters of code, but 3 characters in the string data.\n",
    "- \"aaa\\\"aaa\" is 10 characters of code, but the string itself contains six \"a\" characters and a single, escaped quote character, for a total of 7 characters in the string data.\n",
    "- \"\\x27\" is 6 characters of code, but the string itself contains just one - an apostrophe ('), escaped using hexadecimal notation.\n",
    "\n",
    "Santa's list is a file that contains many double-quoted string literals, one on each line. The only escape sequences used are \\\\ (which represents a single backslash), \\\" (which represents a lone double-quote character), and \\x plus two hexadecimal characters (which represents a single character with that ASCII code).\n",
    "\n",
    "Disregarding the whitespace in the file, what is the number of characters of code for string literals minus the number of characters in memory for the values of the strings in total for the entire file?\n",
    "\n",
    "For example, given the four strings above, the total number of characters of string code (2 + 5 + 10 + 6 = 23) minus the total number of characters in memory for string values (0 + 3 + 7 + 1 = 11) is 23 - 11 = 12."
   ]
  },
  {
   "cell_type": "code",
   "execution_count": 12,
   "id": "interpreted-leather",
   "metadata": {},
   "outputs": [
    {
     "data": {
      "text/plain": [
       "\"'\""
      ]
     },
     "execution_count": 12,
     "metadata": {},
     "output_type": "execute_result"
    }
   ],
   "source": [
    "s = '\\x27'\n",
    "eval('s')"
   ]
  },
  {
   "cell_type": "code",
   "execution_count": 129,
   "id": "union-weapon",
   "metadata": {},
   "outputs": [],
   "source": [
    "inp = '''\"\\xa8br\\x8bjr\\\"\"\n",
    "\"nq\"\n",
    "\"zjrfcpbktjmrzgsz\\xcaqsc\\x03n\\\"huqab\"\n",
    "\"daz\\\\zyyxddpwk\"\n",
    "\"draes\\xa2n\\\\g\\x27ek\\\"lj\\\"\\\\viqych\"\n",
    "\"nnx\\\\krnrfomdnt\\x2flbl\\xd2xpo\\\"cp\\\"k\"\n",
    "\"kwdaapalq\"\n",
    "\"u\\\"ptk\"\n",
    "\"ckhorczuiudfjmmcc\\\\u\\\"wozqxibsfjma\"\n",
    "\"ydctdrxat\\\"pd\\\"lwi\\\"bjesevfw\\xe8\"\n",
    "\"v\\\"\\xa8rrzep\\\"\\\"r\"\n",
    "\"nbydghkfvmq\\\\\\xe0\\\"lfsrsvlsj\\\"i\\x61liif\"\n",
    "\"jsas\\\"u\"\n",
    "\"odipikxlo\"\n",
    "\"\\\"rnubsgwltqkbsu\\\"pcpcs\"\n",
    "\"eitk\\\\f\\\\mhcqqoym\\\\ji\"\n",
    "\"vnedc\"\n",
    "\"\\\"lhcaurdqzyjyu\"\n",
    "\"haxzsa\\\"zcn\\\"y\\\"foclgtjfcnv\\\"m\\x68krc\"\n",
    "\"\\\"eoeggg\\\"tmiydvcay\\\"vfavc\"\n",
    "\"snqvyqoncwxcvwbdktoywch\"\n",
    "\"rnfgjsyr\\xd5wacy\"\n",
    "\"ik\\\"hebrpvsts\"\n",
    "\"txw\"\n",
    "\"\\x15pxtdkogd\\\"urbm\\\"gevhh\\\"nxr\\x3erxtk\"\n",
    "\"cetqtcy\"\n",
    "\"inleep\\\\mgl\"\n",
    "\"uflwbxvww\\x2cxzezqnaply\\\"yh\\\"qlllzk\"\n",
    "\"eepak\\\"xqtedzt\"\n",
    "\"na\\x61qzfieafvyrsnwkssznohjmc\"\n",
    "\"yceaonylz\\xc1\\\\jrlbbkzwsidfi\"\n",
    "\"ybqafngkcqpbp\"\n",
    "\"\\xaft\"\n",
    "\"yidjpaobqydso\"\n",
    "\"ju\\\\ldxig\\\\lrdrhjcmm\\x77rc\"\n",
    "\"tylacqeslnwj\\x48ds\\\"tjxa\"\n",
    "\"efbfm\"\n",
    "\"\\\\fxkgoprgdcjgyajykg\\\\dtbrz\"\n",
    "\"eujvva\"\n",
    "\"h\\x7acwfpikme\\\\vwthyvrqdnx\\\"\"\n",
    "\"rbpbrxm\\\\\\\"\\\"\\\"voxx\"\n",
    "\"ykiw\\\"tkb\\\\lforu\\\"rsf\\\\tf\\\"x\\\"rqti\"\n",
    "\"e\\\\wh\\x77aqeugiq\\\\ihhfqfuaij\"\n",
    "\"g\\\"t\\\\o\"\n",
    "\"nxzo\\\"hf\\\\xp\"\n",
    "\"dxiaqfo\\xea\"\n",
    "\"kali\\\\zczhiqkqzybjj\\\"fgdjnik\"\n",
    "\"zdkgrqmdv\"\n",
    "\"bimxim\\xb6lrwsaj\\\"ui\\\"a\"\n",
    "\"\\\"rrznitibgx\\\\olpsjmjqzctxaubdifsq\"\n",
    "\"zb\\\"khzixaacmhuzmlymoformipdzml\"\n",
    "\"qfwi\"\n",
    "\"hjwsxfpphttjy\\\"\\\"zixais\\xbblgnqfto\"\n",
    "\"puj\\\\qmyu\\\"nqgaqfthbwjokbmrpbhpi\"\n",
    "\"cyxdpkh\\\\\\\"\"\n",
    "\"q\"\n",
    "\"m\"\n",
    "\"tbxdzzllarlo\"\n",
    "\"gbtys\"\n",
    "\"gytilk\\\\vlqxvcuutjunrqc\"\n",
    "\"uugkvcuzan\\\\eyhb\"\n",
    "\"yaxr\\\"genlbgw\\\"\\\\uc\"\n",
    "\"nrgecjeip\\\\sjdvgqaqxwsqactopu\"\n",
    "\"pu\\\"r\\\"txpyrkfny\\\\zmwfneyvwmnkkdipv\"\n",
    "\"jm\\xa3bhwvq\"\n",
    "\"qxojmnml\\\"w\\x9airr\"\n",
    "\"xbzsuihs\\x4dcedy\\xaclrhgii\\\\\\\"\"\n",
    "\"drgjirusrekrwmvxllwdm\"\n",
    "\"\\x28hfxnfpycmpnkku\\\"csuf\\xaarxlqyg\\\"x\"\n",
    "\"\\\"zvz\\\\rmg\\\"\\\\sxxoifffyqfyn\\\"iq\\\"ps\"\n",
    "\"\\\"z\"\n",
    "\"zbwkmk\\\"sgzos\\x93gtc\\\"\"\n",
    "\"bvm\\x28aa\\\\\\\\\\\"pywuhaniox\\\\z\\\\hbp\\xd7mold\"\n",
    "\"aszgvsyna\"\n",
    "\"qf\\\"vdwuss\"\n",
    "\"lnohni\\\"qwiacjsjegstlbfq\\\\kyjhyd\"\n",
    "\"c\\\\naawulxlqplnacvytspry\\xf5ytxxqq\"\n",
    "\"razwqmsqgbaaxcd\\\\f\"\n",
    "\"radggyrjrg\\\"zx\"\n",
    "\"\\\"pu\\x11t\\\\ajcjuieinlkvya\"\n",
    "\"veggiskh\"\n",
    "\"eglfhjxiet\\\"kouqfskwsy\\\"hpthsldel\"\n",
    "\"mv\\xc1b\\\"f\\\\shrssnjwcpmurepdxdlcj\"\n",
    "\"dlayjd\\\"suvzotgdtc\"\n",
    "\"\\xa9pvxeopn\"\n",
    "\"lpplsaxy\\\"oiwaq\"\n",
    "\"hqwh\\\\lusv\"\n",
    "\"hykykwlx\\\"\\xa5atkgh\\\\d\\x63dff\"\n",
    "\"vfktanpjy\\\"xxetc\"\n",
    "\"dnhwkgjnsmsswfuelvihvjl\\\"jtf\"\n",
    "\"x\\\"dwvzra\\\"nbbsewftehczgbvfzd\\\"rau\"\n",
    "\"csfi\\\"mzejnjqkqupwadrgti\\\"von\"\n",
    "\"xckf\\xf7xsm\\\\pgvlpetjndpyblais\\\\z\"\n",
    "\"yecy\\x6fuj\\x58bwpgeuiw\\\"mdu\"\n",
    "\"fgb\"\n",
    "\"c\\\\lx\\x3efthet\\xfdelgvwvpem\"\n",
    "\"kgyrmarvfwjinlowt\"\n",
    "\"yzte\"\n",
    "\"vc\\\"z\"\n",
    "\"sxevqfzmmdwsuu\\\"\"\n",
    "\"fxbaercmcy\\xb6md\"\n",
    "\"f\"\n",
    "\"m\\x44gqbcppho\\\\b\"\n",
    "\"gtafr\\x57m\\x11jy\\\"\\\"erwmmpiwjkbckuw\"\n",
    "\"ufdjt\\\"kssprzxqixzxmq\\x58q\"\n",
    "\"yzbyo\\\"lfdbyaxexyfbnyv\\\\\\xe8xmre\"\n",
    "\"u\\x43ntr\\\\\\\\byyfjr\\\"iveujvnwsqbnpuvrta\"\n",
    "\"us\\xf6bai\"\n",
    "\"c\\\\edh\"\n",
    "\"tzckolphexfq\\\\\\x23\\xfbdqv\\\\\\\"m\"\n",
    "\"yjafhbvhhj\\x1b\\\"bplb\"\n",
    "\"\\\"o\"\n",
    "\"rubahvmp\\\"\"\n",
    "\"qmkukrnrmqumh\"\n",
    "\"wdpxyvyidhwjf\\\\nabbijwhr\\xc5bksvy\\\"p\"\n",
    "\"u\\\"prlpg\\\"\"\n",
    "\"nsvcquyxbwilsxxemf\\xd9leq\"\n",
    "\"y\\xcetxuafl\"\n",
    "\"it\"\n",
    "\"kwdlysf\\\\xjpelae\"\n",
    "\"viwh\\x58wpjjlnvryuti\\x2chngrx\\\\nhtkui\"\n",
    "\"vhn\\x9ehre\\xc3ncsqbozms\\\"nl\"\n",
    "\"ytc\\xa3mgeeogjcqavmmmd\"\n",
    "\"xzlexlitseozoxtpzzutfq\"\n",
    "\"cish\\x07lmovj\"\n",
    "\"ekbflwqzaiivdr\\\"pq\\\\azrfbntqwkn\"\n",
    "\"uc\\\"xdbegmlmhksofzohavtrnxf\"\n",
    "\"xfdnrdqdrcjzbe\"\n",
    "\"ndg\\\"ckgrpisib\\\"rg\\\"p\\\\lmpfzlssnvk\"\n",
    "\"witfjwpbyyzlop\"\n",
    "\"zonlww\\\"emrbcsgdtrg\\\"rjzy\\x64zqntlw\"\n",
    "\"dvgb\\\"zn\\\\vrbzema\\\"ckmd\"\n",
    "\"\\\\vdlmxhlvldk\\\"pmzazeip\"\n",
    "\"\\\"\\\"r\"\n",
    "\"rsntinv\"\n",
    "\"iy\"\n",
    "\"lr\\x20efh\"\n",
    "\"csgexlb\\\"zqdavlxxhtdbh\\\"\\\"\\x0fkpvhiphm\"\n",
    "\"ouwhp\\\"ogbft\"\n",
    "\"cm\\\\ckltng\\\"dw\\x8brf\\xf0eppgckd\"\n",
    "\"zmnlsgalhpkejsizfsbtnfliu\\\"nhc\"\n",
    "\"pnrkaayqvwpdjbhcrbb\\\"yfeq\\\"aq\"\n",
    "\"ozh\\\\hoxow\\x2csrtr\\\\r\\\"\"\n",
    "\"bqxabj\\\"u\\\\s\"\n",
    "\"cpsjti\\\"gy\"\n",
    "\"aa\\\"p\\\\nki\\\\ajijkqev\"\n",
    "\"q\\\"\\\"lfdentjgd\\\\\"\n",
    "\"bmokvpoebutfki\"\n",
    "\"pielvcbne\\xf6efvzxn\"\n",
    "\"kx\"\n",
    "\"zlgmqagcrbhrwtwtmmg\"\n",
    "\"aiyhmntcqjbpv\\xb5hhswxbryoedvos\"\n",
    "\"tdpaxrb\"\n",
    "\"fu\\\"\\x7dttkyvhrlwko\"\n",
    "\"oirc\\\\\\\"cqlnqffjqt\\\\k\"\n",
    "\"edxlia\\\\tcyby\"\n",
    "\"jpeybgwfayerfrfbvfog\\\"ol\"\n",
    "\"ysr\"\n",
    "\"bzwzilgwfugjk\"\n",
    "\"tlcc\\x75nukvwjgftetjcs\\xaecwc\"\n",
    "\"dsqssa\\\"vzrf\\\"sewbp\\\\ahhlmhbeihlh\"\n",
    "\"qtgmjck\\\"n\\\"guki\\\"gmdivwqxismqj\"\n",
    "\"\\\"f\"\n",
    "\"wuorvlovucngbzdszqpikyk\"\n",
    "\"dfrdsacoukmgvhbq\\\"\\\"iwto\"\n",
    "\"\\\"ey\\\"ch\\\\wcgioe\\\\\\\"ouvligmsw\"\n",
    "\"ciqlszzgs\"\n",
    "\"\\\\tzyrkaoi\\\"sopjaq\"\n",
    "\"lmtnv\"\n",
    "\"ar\\\"fqoroigiertjjlm\\\"ymgi\\\\kkjewsxd\"\n",
    "\"wehcimlvudpxtamdn\\\"rwy\"\n",
    "\"hr\\\"zvrwthr\\\"vruzqfrldn\\\"b\"\n",
    "\"sggekodkiwvym\\\"mhsco\"\n",
    "\"ltlkfbrrdvk\\\\\"\n",
    "\"uut\\\"sfjnz\\\"\\\\ef\"\n",
    "\"hxilg\\\\\"\n",
    "\"zsredsiwlzrpedibn\"\n",
    "\"vtfi\"\n",
    "\"\\\\h\"\n",
    "\"qekfrc\\xf6wduodbwrguqcng\\\\n\"\n",
    "\"\\\"lljlfdrxftwidn\\\\pkv\\xd9ij\"\n",
    "\"mrvgqynpehkliuijlpp\"\n",
    "\"gikjph\"\n",
    "\"yoxcdrdt\\\"wbaurnyhoyxoihu\"\n",
    "\"onmomwuxuammbzxe\"\n",
    "\"rnrr\\\\twviz\\x61gqaljr\\x0dmtw\"\n",
    "\"r\\\"vupaoi\"\n",
    "\"l\"\n",
    "\"sei\"\n",
    "\"jwxtdtbkd\\\\kxd\"\n",
    "\"\\x22v\\\\\"\n",
    "\"ahd\"\n",
    "\"j\\\"bjqxs\"\n",
    "\"\\\\i\\x24gglxub\\\\nzsajokt\"\n",
    "\"lviwpu\\\"uxdlh\\\\zuy\\\"xqy\\\"ytdzlx\\\"r\"\n",
    "\"kptfmys\"\n",
    "\"fwxzikfhczkjwyjszqdbkepaeellc\"\n",
    "\"nlqpsvbrbd\\\\ns\"\n",
    "\"qryuwkjiodw\\\"\\\"vaqyq\\\"dmyifm\"\n",
    "\"tw\\x15kdmaudjl\\\\zorhp\\\"alwh\"\n",
    "\"aatrvczesykekkjfyb\\\"kb\"\n",
    "\"usqcutbqbxxhucwxo\\xc1ltb\\\"j\\\"bghjcvws\"\n",
    "\"ilhsrnzxkz\"\n",
    "\"bianqfdfdhvw\"\n",
    "\"hqibqs\\x7ax\\\"qoxqoaqtcsz\"\n",
    "\"htxtoojbbauztwxuiq\\\\ngyfy\\\\obzc\"\n",
    "\"rxn\\\\moxlj\"\n",
    "\"mtus\\x84erh\\\"dbe\"\n",
    "\"asx\\x50huvsitcxadt\"\n",
    "\"\\\"bugggtnrc\\\"\\\"kl\\\"hmpu\\x83hqrvhpo\"\n",
    "\"ewisbp\\\"\\\"vuzf\\\\w\\x5fvalszdhl\"\n",
    "\"scusplpwxfnxu\\x57\\\"zynpn\\x99xerc\\\\ri\"\n",
    "\"m\\\\kinmkke\\x0cl\"\n",
    "\"xhuzit\\x7fd\"\n",
    "\"kfbo\\x04\\x50ruqirn\"\n",
    "\"t\\\"\\\"xpbdscmdoug\"\n",
    "\"punvpsgnbgyxe\\\"sptmpz\"\n",
    "\"bxukkazijr\"\n",
    "\"nxyrcdaoo\\\"rjkk\\\"wntehcvcip\\\"vrd\"\n",
    "\"rdpvqskmihqaw\"\n",
    "\"p\\\\gwdhtqnpgthod\"\n",
    "\"nwnuf\\\"\\\"yebycearom\\\"nqym\\\"\\xd4sii\\xccle\"\n",
    "\"alda\\\"ptspo\\\"wkkv\\\"zoi\\\"hkb\\\"vnntyd\"\n",
    "\"ixpgpfzbqv\"\n",
    "\"znui\\\"\\\\fzn\\x03qozabh\\\"rva\\\"pv\\x67\"\n",
    "\"e\\\"zswmwuk\"\n",
    "\"hcccygwfa\"\n",
    "\"ngmace\\\\rtyllolr\\\"\\x68bw\"\n",
    "\"\\\\c\\\"jyufbry\\\"ryo\\\"xpo\\x26ecninfeckh\\\\s\"\n",
    "\"hdnpngtuc\\\"dzbvvosn\\x31fwtpzbrt\"\n",
    "\"hesbpd\\xd4\"\n",
    "\"dsdbstuzrdfmrnyntufs\\\"dmv\"\n",
    "\"d\\xeeibcwhcvkt\"\n",
    "\"fvzwrsfjdqdmy\\\"\\\"v\"\n",
    "\"ns\\\"dqafz\\\\lkyoflnazv\\\"mn\\x37\\\"o\\\"yj\\\"e\"\n",
    "\"dypilgbwzccayxa\\\"bnmuernx\"\n",
    "\"q\\xa9ztqrhreb\\\"\\\"kxfeyodqb\"\n",
    "\"iz\\xa5qjxqulaawuwz\\\"rqmpcj\\\\yel\"\n",
    "\"z\\\"\\\\pq\\\"\\\"y\\x67zpjtn\"\n",
    "\"ifxqvivp\\\"kiiftdoe\"\n",
    "\"jxzebj\\\"\\x35\\\"qr\\\"ecglcutuoyywqumcs\\\"kk\"\n",
    "\"q\"\n",
    "\"yob\\x85qmpuwexptczbkrl\"\n",
    "\"cjiavv\\\"uudpozvibyycnmxhxpxmpjoz\"\n",
    "\"xro\\\\uiqyrcid\"\n",
    "\"nod\\\\k\"\n",
    "\"d\\\"neiec\"\n",
    "\"tqyrqvwyvmz\\\\pzgzzcqsqsrgbqbtapoz\"\n",
    "\"r\\\"xvocpeuxfxslgueb\\x05kzyyie\\\"aoec\"\n",
    "\"\\\"du\\\\uirlhcbgv\\\\cjqhfreqnvn\"\n",
    "\"zp\\x04\\x15\\\"pbjwhrjtmiba\"\n",
    "\"\\\\cv\\\"\"\n",
    "\"k\\\"rwnb\\\\hiu\\\"rqd\\\"rc\\\\nyakrhly\"\n",
    "\"klrmafjzandiddodgz\"\n",
    "\"xipzhqzhvlpykzcuppx\"\n",
    "\"zdvrvn\\xd0mtfvpylbn\\\\\\\\sxcznrzugwznl\"\n",
    "\"ody\\\\pvm\\\"kpjiudzhxazirgxzvumeat\\\"o\"\n",
    "\"kllvhdp\\\"prjikzrrc\\\"adgpegc\\\\\\\"gk\"\n",
    "\"sqtpug\\xbcaauxaamw\"\n",
    "\"wegxxrrxdvpivrqievfeokmnojsk\"\n",
    "\"\\\\bo\"\n",
    "\"gijhz\"\n",
    "\"ylowluvabwrigssdgtxdwsiorxev\\xdd\"\n",
    "\"\\\"\"\n",
    "\"ghnsrnsqtxpygikahkrl\"\n",
    "\"\\\"rcfqkbjf\\\"sgxg\\\"vnd\\\\rotn\"\n",
    "\"ap\\\"smgsuexjrbuqs\\\"mpbstogj\\\"x\"\n",
    "\"koaunz\\\\sgt\\\"opv\"\n",
    "\"yialiuzwix\"\n",
    "\"yp\\\"ndxgwzml\\\"bt\"\n",
    "\"lpcjxmggfsy\\\\szbxccarjkqzasqkb\\xcfd\\x0c\"\n",
    "\"x\"\n",
    "\"mgakc\"\n",
    "\"vjieunoh\\x73fjwx\"\n",
    "\"erbvv\\\"qulsd\"\n",
    "\"mimycrbfhqkarmz\"\n",
    "\"tihfbgcszuej\\\"c\\xfbvoqskkhbgpaddioo\"\n",
    "\"mziavkwrmekriqghw\"\n",
    "\"izk\\\\tnjd\\\\ed\\\\emokvjoc\"\n",
    "\"c\\\"nhbqzndro\\\\g\"\n",
    "\"usfngdo\"\n",
    "\"aypljdftvptt\"\n",
    "\"ym\\\"afvq\\xbcc\"\n",
    "\"zabi\\\"wjpvugwhl\"\n",
    "\"ebvptcjqjhc\\\"n\\\"p\\\"dxrphegr\\\\\"\n",
    "\"mzlqqxokhye\\xd9\\\\rffhnzs\"\n",
    "\"hnipqknwpsjakanuewe\"\n",
    "\"rqgbfcjdrmiz\\\"h\"\n",
    "\"kzzp\\\\z\\\\txmkwaouxictybwx\"\n",
    "\"yzmspjkqrteiydswlvb\"\n",
    "\"gjpxklgpzv\\\"txri\\\\hotpuiukzzzd\"\n",
    "\"p\\\"rxergtbsxmjmkeeqwvoagnki\\\"\"\n",
    "\"santipvuiq\"\n",
    "\"\\\"ihjqlhtwbuy\\\"hdkiv\\\"mtiqacnf\\\\\"\n",
    "\"oliaggtqyyx\"\n",
    "\"fwwnpmbb\"\n",
    "\"yrtdrieazfxyyneo\"\n",
    "\"nywbv\\\\\"\n",
    "\"twc\\\\ehfqxhgomgrgwpxyzmnkioj\"\n",
    "\"qludrkkvljljd\\\\xvdeum\\x4e\"'''"
   ]
  },
  {
   "cell_type": "code",
   "execution_count": 231,
   "id": "defensive-collection",
   "metadata": {},
   "outputs": [
    {
     "data": {
      "text/plain": [
       "301"
      ]
     },
     "execution_count": 231,
     "metadata": {},
     "output_type": "execute_result"
    }
   ],
   "source": [
    "lines = [a for a in inp.split('\\n')]\n",
    "len(lines)"
   ]
  },
  {
   "cell_type": "code",
   "execution_count": 232,
   "id": "framed-association",
   "metadata": {},
   "outputs": [
    {
     "data": {
      "text/plain": [
       "217"
      ]
     },
     "execution_count": 232,
     "metadata": {},
     "output_type": "execute_result"
    }
   ],
   "source": [
    "def count_literal():\n",
    "    counts = 0\n",
    "    a = [b for b in inp.split('\\n')]\n",
    "    for i in a:\n",
    "        counts += len(f'{i!r}') - 2\n",
    "        #print(f'{i!r}')\n",
    "    return counts\n",
    "\n",
    "def count_inmemory(s):\n",
    "    t = ''.join(s.split())\n",
    "    return len(t)\n",
    "\n",
    "count = count_literal()    \n",
    "for line in lines:\n",
    "    count -= count_inmemory(line)\n",
    "count #603 low // 6622 high // 1204, 1505, 2408, 5629 not it"
   ]
  },
  {
   "cell_type": "code",
   "execution_count": 220,
   "id": "dominant-optimum",
   "metadata": {},
   "outputs": [
    {
     "name": "stdout",
     "output_type": "stream",
     "text": [
      "'nywbv\\\\'\n",
      "\"'nywbv\\\\\\\\'\"\n",
      "'\"\\'nywbv\\\\\\\\\\\\\\\\\\'\"'\n"
     ]
    }
   ],
   "source": [
    "a = \"nywbv\\\\\"\n",
    "print(f'{a!r}')\n",
    "assert len(f'{a!r}') == 9\n",
    "b = f'{a!r}'\n",
    "print(f'{b!r}')\n",
    "assert len(f'{b!r}') == 13\n",
    "c = f'{b!r}'\n",
    "print(f'{c!r}')\n",
    "assert len(f'{c!r}') == 21"
   ]
  },
  {
   "cell_type": "code",
   "execution_count": 221,
   "id": "rolled-arbor",
   "metadata": {},
   "outputs": [
    {
     "name": "stdout",
     "output_type": "stream",
     "text": [
      "'\"usfngdo\"'\n",
      "'\"santipvuiq\"'\n",
      "'\"\\\\bo\"'\n",
      "'\"\\x01\"'\n"
     ]
    },
    {
     "data": {
      "text/plain": [
       "33"
      ]
     },
     "execution_count": 221,
     "metadata": {},
     "output_type": "execute_result"
    }
   ],
   "source": [
    "st = '''\"usfngdo\"\n",
    "\"santipvuiq\"\n",
    "\"\\\\bo\"\n",
    "\"\\x01\"'''\n",
    "count_literal()"
   ]
  },
  {
   "cell_type": "code",
   "execution_count": 230,
   "id": "active-charger",
   "metadata": {},
   "outputs": [
    {
     "data": {
      "text/plain": [
       "'\"qludrkkvljljd\\\\xvdeumN\"'"
      ]
     },
     "execution_count": 230,
     "metadata": {},
     "output_type": "execute_result"
    }
   ],
   "source": [
    "lines[-1]\n"
   ]
  },
  {
   "cell_type": "markdown",
   "id": "prepared-partition",
   "metadata": {},
   "source": [
    "- inp = '''\n",
    "- \"\\xa8br\\x8bjr\\\"\"\n",
    "- \"nq\"\n",
    "- \"zjrfcpbktjmrzgsz\\xcaqsc\\x03n\\\"huqab\"\n",
    "- \"daz\\\\zyyxddpwk\"\n",
    "- \"draes\\xa2n\\\\g\\x27ek\\\"lj\\\"\\\\viqych\"\n",
    "- \"nnx\\\\krnrfomdnt\\x2flbl\\xd2xpo\\\"cp\\\"k\"\n",
    "- \"kwdaapalq\"\n",
    "- \"u\\\"ptk\"\n",
    "- \"ckhorczuiudfjmmcc\\\\u\\\"wozqxibsfjma\"\n",
    "- \"ydctdrxat\\\"pd\\\"lwi\\\"bjesevfw\\xe8\"\n",
    "- \"v\\\"\\xa8rrzep\\\"\\\"r\"\n",
    "- \"nbydghkfvmq\\\\\\xe0\\\"lfsrsvlsj\\\"i\\x61liif\"\n",
    "- \"jsas\\\"u\"\n",
    "- \"odipikxlo\"\n",
    "- \"\\\"rnubsgwltqkbsu\\\"pcpcs\"\n",
    "- \"eitk\\\\f\\\\mhcqqoym\\\\ji\""
   ]
  },
  {
   "cell_type": "code",
   "execution_count": 121,
   "id": "standard-scholar",
   "metadata": {},
   "outputs": [
    {
     "data": {
      "text/plain": [
       "4"
      ]
     },
     "execution_count": 121,
     "metadata": {},
     "output_type": "execute_result"
    }
   ],
   "source": [
    "a = 'g\\xfbgg'\n",
    "len(eval('a'))"
   ]
  },
  {
   "cell_type": "code",
   "execution_count": 76,
   "id": "mexican-labor",
   "metadata": {},
   "outputs": [
    {
     "data": {
      "text/plain": [
       "31"
      ]
     },
     "execution_count": 76,
     "metadata": {},
     "output_type": "execute_result"
    }
   ],
   "source": [
    "u = eval('t')\n",
    "len(u)"
   ]
  },
  {
   "cell_type": "code",
   "execution_count": 100,
   "id": "lesbian-architect",
   "metadata": {},
   "outputs": [
    {
     "data": {
      "text/plain": [
       "104"
      ]
     },
     "execution_count": 100,
     "metadata": {},
     "output_type": "execute_result"
    }
   ],
   "source": [
    "import sys\n",
    "sys.getsizeof(t)"
   ]
  },
  {
   "cell_type": "code",
   "execution_count": 106,
   "id": "suited-incentive",
   "metadata": {},
   "outputs": [
    {
     "data": {
      "text/plain": [
       "32"
      ]
     },
     "execution_count": 106,
     "metadata": {},
     "output_type": "execute_result"
    }
   ],
   "source": [
    "len(t.encode('utf-8'))"
   ]
  },
  {
   "cell_type": "code",
   "execution_count": 122,
   "id": "assured-princeton",
   "metadata": {},
   "outputs": [
    {
     "data": {
      "text/plain": [
       "4"
      ]
     },
     "execution_count": 122,
     "metadata": {},
     "output_type": "execute_result"
    }
   ],
   "source": [
    "len(r'\\x84')"
   ]
  },
  {
   "cell_type": "code",
   "execution_count": 123,
   "id": "subsequent-foundation",
   "metadata": {},
   "outputs": [
    {
     "data": {
      "text/plain": [
       "1"
      ]
     },
     "execution_count": 123,
     "metadata": {},
     "output_type": "execute_result"
    }
   ],
   "source": [
    "len('\\x84')"
   ]
  },
  {
   "cell_type": "code",
   "execution_count": 124,
   "id": "essential-appliance",
   "metadata": {},
   "outputs": [
    {
     "data": {
      "text/plain": [
       "1"
      ]
     },
     "execution_count": 124,
     "metadata": {},
     "output_type": "execute_result"
    }
   ],
   "source": [
    "s = '\\x84'\n",
    "len(s)"
   ]
  },
  {
   "cell_type": "code",
   "execution_count": 125,
   "id": "center-documentation",
   "metadata": {},
   "outputs": [
    {
     "data": {
      "text/plain": [
       "1"
      ]
     },
     "execution_count": 125,
     "metadata": {},
     "output_type": "execute_result"
    }
   ],
   "source": [
    "len(r's')"
   ]
  },
  {
   "cell_type": "code",
   "execution_count": 126,
   "id": "bacterial-helping",
   "metadata": {},
   "outputs": [
    {
     "data": {
      "text/plain": [
       "6"
      ]
     },
     "execution_count": 126,
     "metadata": {},
     "output_type": "execute_result"
    }
   ],
   "source": [
    "len(f'{s!r}')"
   ]
  },
  {
   "cell_type": "code",
   "execution_count": null,
   "id": "seventh-rating",
   "metadata": {},
   "outputs": [],
   "source": []
  }
 ],
 "metadata": {
  "kernelspec": {
   "display_name": "Python 3",
   "language": "python",
   "name": "python3"
  },
  "language_info": {
   "codemirror_mode": {
    "name": "ipython",
    "version": 3
   },
   "file_extension": ".py",
   "mimetype": "text/x-python",
   "name": "python",
   "nbconvert_exporter": "python",
   "pygments_lexer": "ipython3",
   "version": "3.7.4"
  }
 },
 "nbformat": 4,
 "nbformat_minor": 5
}
