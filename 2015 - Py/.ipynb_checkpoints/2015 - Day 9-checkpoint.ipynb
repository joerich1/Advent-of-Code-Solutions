{
 "cells": [
  {
   "cell_type": "markdown",
   "id": "neither-wales",
   "metadata": {},
   "source": [
    "### DAY 9: ALL IN A SINGLE NIGHT\n",
    "Every year, Santa manages to deliver all of his presents in a single night.\n",
    "\n",
    "This year, however, he has some new locations to visit; his elves have provided him the distances between every pair of locations. He can start and end at any two (different) locations he wants, but he must visit each location exactly once. What is the shortest distance he can travel to achieve this?\n",
    "\n",
    "For example, given the following distances:\n",
    "- London to Dublin = 464\n",
    "- London to Belfast = 518\n",
    "- Dublin to Belfast = 141\n",
    "\n",
    "The possible routes are therefore:\n",
    "- Dublin -> London -> Belfast = 982\n",
    "- London -> Dublin -> Belfast = 605\n",
    "- London -> Belfast -> Dublin = 659\n",
    "- Dublin -> Belfast -> London = 659\n",
    "- Belfast -> Dublin -> London = 605\n",
    "- Belfast -> London -> Dublin = 982\n",
    "\n",
    "The shortest of these is London -> Dublin -> Belfast = 605, and so the answer is 605 in this example.\n",
    "\n",
    "What is the distance of the shortest route?"
   ]
  },
  {
   "cell_type": "markdown",
   "id": "painful-episode",
   "metadata": {},
   "source": [
    "### PUZZLE INPUT"
   ]
  },
  {
   "cell_type": "code",
   "execution_count": 1,
   "id": "lesbian-philippines",
   "metadata": {},
   "outputs": [],
   "source": [
    "inp = '''Faerun to Norrath = 129\n",
    "Faerun to Tristram = 58\n",
    "Faerun to AlphaCentauri = 13\n",
    "Faerun to Arbre = 24\n",
    "Faerun to Snowdin = 60\n",
    "Faerun to Tambi = 71\n",
    "Faerun to Straylight = 67\n",
    "Norrath to Tristram = 142\n",
    "Norrath to AlphaCentauri = 15\n",
    "Norrath to Arbre = 135\n",
    "Norrath to Snowdin = 75\n",
    "Norrath to Tambi = 82\n",
    "Norrath to Straylight = 54\n",
    "Tristram to AlphaCentauri = 118\n",
    "Tristram to Arbre = 122\n",
    "Tristram to Snowdin = 103\n",
    "Tristram to Tambi = 49\n",
    "Tristram to Straylight = 97\n",
    "AlphaCentauri to Arbre = 116\n",
    "AlphaCentauri to Snowdin = 12\n",
    "AlphaCentauri to Tambi = 18\n",
    "AlphaCentauri to Straylight = 91\n",
    "Arbre to Snowdin = 129\n",
    "Arbre to Tambi = 53\n",
    "Arbre to Straylight = 40\n",
    "Snowdin to Tambi = 15\n",
    "Snowdin to Straylight = 99\n",
    "Tambi to Straylight = 70'''"
   ]
  },
  {
   "cell_type": "markdown",
   "id": "special-palmer",
   "metadata": {},
   "source": [
    "### DATA"
   ]
  },
  {
   "cell_type": "code",
   "execution_count": 2,
   "id": "human-magic",
   "metadata": {},
   "outputs": [],
   "source": [
    "lines = [a for a in inp.split('\\n')]\n",
    "splits = [b.split(' = ') for b in lines]\n",
    "locations = [c[0].split(' to ') for c in splits]\n",
    "\n",
    "# ORGANZE INTO DICT WITH KEYS AS (CITY A, CITY B) AND (CITY B, CITY A) AND VALUES AS INT(DISTANCES)\n",
    "x = {(locations[d][0], locations[d][1]) : int(splits[d][1]) for d in range(len(locations))}\n",
    "y = {(locations[d][1], locations[d][0]) : int(splits[d][1]) for d in range(len(locations))}\n",
    "datadict = {**x, **y}"
   ]
  },
  {
   "cell_type": "markdown",
   "id": "announced-beijing",
   "metadata": {},
   "source": [
    "### PART 1"
   ]
  },
  {
   "cell_type": "code",
   "execution_count": 3,
   "id": "alternative-species",
   "metadata": {},
   "outputs": [
    {
     "data": {
      "text/plain": [
       "207"
      ]
     },
     "execution_count": 3,
     "metadata": {},
     "output_type": "execute_result"
    }
   ],
   "source": [
    "from itertools import permutations\n",
    "\n",
    "stops = [a for (a, b) in datadict.keys()]\n",
    "cities = set(stops) # LIST OF UNIQUE CITIES\n",
    "perms = permutations(cities, len(cities))\n",
    "\n",
    "distances = []\n",
    "for route in list(perms):\n",
    "    pairs = [(route[a], route[a+1]) for a in range(len(route)-1)]\n",
    "    distance = 0\n",
    "    for pair in pairs:\n",
    "        distance += datadict[pair]\n",
    "    distances.append(distance)\n",
    "\n",
    "min(distances)"
   ]
  },
  {
   "cell_type": "markdown",
   "id": "thermal-apparel",
   "metadata": {},
   "source": [
    "### PART 2\n",
    "The next year, just to show off, Santa decides to take the route with the longest distance instead.\n",
    "\n",
    "He can still start and end at any two (different) locations he wants, and he still must visit each location exactly once.\n",
    "\n",
    "For example, given the distances above, the longest route would be 982 via (for example) Dublin -> London -> Belfast.\n",
    "\n",
    "What is the distance of the longest route?"
   ]
  },
  {
   "cell_type": "code",
   "execution_count": 4,
   "id": "complimentary-branch",
   "metadata": {},
   "outputs": [
    {
     "data": {
      "text/plain": [
       "804"
      ]
     },
     "execution_count": 4,
     "metadata": {},
     "output_type": "execute_result"
    }
   ],
   "source": [
    "max(distances)"
   ]
  }
 ],
 "metadata": {
  "kernelspec": {
   "display_name": "Python 3",
   "language": "python",
   "name": "python3"
  },
  "language_info": {
   "codemirror_mode": {
    "name": "ipython",
    "version": 3
   },
   "file_extension": ".py",
   "mimetype": "text/x-python",
   "name": "python",
   "nbconvert_exporter": "python",
   "pygments_lexer": "ipython3",
   "version": "3.7.4"
  }
 },
 "nbformat": 4,
 "nbformat_minor": 5
}
