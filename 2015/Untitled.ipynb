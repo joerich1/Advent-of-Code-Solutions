{
 "cells": [
  {
   "cell_type": "code",
   "execution_count": 1,
   "id": "apart-railway",
   "metadata": {},
   "outputs": [
    {
     "ename": "ModuleNotFoundError",
     "evalue": "No module named 'github'",
     "output_type": "error",
     "traceback": [
      "\u001b[0;31m---------------------------------------------------------------------------\u001b[0m",
      "\u001b[0;31mModuleNotFoundError\u001b[0m                       Traceback (most recent call last)",
      "\u001b[0;32m<ipython-input-1-4855b9e3f9c1>\u001b[0m in \u001b[0;36m<module>\u001b[0;34m\u001b[0m\n\u001b[1;32m      1\u001b[0m \u001b[0;32mimport\u001b[0m \u001b[0mbase64\u001b[0m\u001b[0;34m\u001b[0m\u001b[0;34m\u001b[0m\u001b[0m\n\u001b[0;32m----> 2\u001b[0;31m \u001b[0;32mfrom\u001b[0m \u001b[0mgithub\u001b[0m \u001b[0;32mimport\u001b[0m \u001b[0mGithub\u001b[0m\u001b[0;34m\u001b[0m\u001b[0;34m\u001b[0m\u001b[0m\n\u001b[0m\u001b[1;32m      3\u001b[0m \u001b[0;32mfrom\u001b[0m \u001b[0mgithub\u001b[0m \u001b[0;32mimport\u001b[0m \u001b[0mInputGitTreeElement\u001b[0m\u001b[0;34m\u001b[0m\u001b[0;34m\u001b[0m\u001b[0m\n\u001b[1;32m      4\u001b[0m \u001b[0;34m\u001b[0m\u001b[0m\n\u001b[1;32m      5\u001b[0m \u001b[0muser\u001b[0m \u001b[0;34m=\u001b[0m \u001b[0;34m\"joerich1\"\u001b[0m\u001b[0;34m\u001b[0m\u001b[0;34m\u001b[0m\u001b[0m\n",
      "\u001b[0;31mModuleNotFoundError\u001b[0m: No module named 'github'"
     ]
    }
   ],
   "source": [
    "import base64\n",
    "from github import Github\n",
    "from github import InputGitTreeElement\n",
    "\n",
    "user = \"joerich1\"\n",
    "password = 'bEpny4hivkesnemgem'\n",
    "g = Github(user,password)\n",
    "repo = g.get_user().get_repo('git-test')\n",
    "file_list = [\n",
    "    'Documents/Data Science/Projects/AoC/2015/2015 - Day 1.ipynb'\n",
    "]\n",
    "\n",
    "file_names = [\n",
    "    '2015 - Day 1'\n",
    "]\n",
    "commit_message = 'python update 2'\n",
    "master_ref = repo.get_git_ref('heads/master')\n",
    "master_sha = master_ref.object.sha\n",
    "base_tree = repo.get_git_tree(master_sha)\n",
    "element_list = list()\n",
    "for i, entry in enumerate(file_list):\n",
    "    with open(entry) as input_file:\n",
    "        data = input_file.read()\n",
    "    if entry.endswith('.png'):\n",
    "        data = base64.b64encode(data)\n",
    "    element = InputGitTreeElement(file_names[i], '100644', 'blob', data)\n",
    "    element_list.append(element)\n",
    "tree = repo.create_git_tree(element_list, base_tree)\n",
    "parent = repo.get_git_commit(master_sha)\n",
    "commit = repo.create_git_commit(commit_message, tree, [parent])\n",
    "master_ref.edit(commit.sha)"
   ]
  },
  {
   "cell_type": "code",
   "execution_count": null,
   "id": "indian-backing",
   "metadata": {},
   "outputs": [],
   "source": [
    "pip install git+ssh://git@github.com/myuser/foo.git\n",
    "\n",
    "pip install git+https://github.com/myuser/foo.git@v123\n",
    "\n",
    "pip install git+https://github.com/myuser/foo.git@newbranch"
   ]
  }
 ],
 "metadata": {
  "kernelspec": {
   "display_name": "Python 3",
   "language": "python",
   "name": "python3"
  },
  "language_info": {
   "codemirror_mode": {
    "name": "ipython",
    "version": 3
   },
   "file_extension": ".py",
   "mimetype": "text/x-python",
   "name": "python",
   "nbconvert_exporter": "python",
   "pygments_lexer": "ipython3",
   "version": "3.7.9"
  }
 },
 "nbformat": 4,
 "nbformat_minor": 5
}
